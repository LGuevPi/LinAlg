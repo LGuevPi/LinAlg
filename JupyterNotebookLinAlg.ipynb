

import time #b) regarding the time: 100 * 100 needed 0.15 seconds, 500 * 500 nedded 19.20 seconds and 1000 * 1000 needed 203.98 seconds. It is longer than I anticipated and the time gaps get increasingly bigger. I also measured other values (in steps of 100) but those aren't neccessary to show the trend and that's why I changed the step rate to 200 so that the test gets done quicker.

# That's a fnnction to create a square matrix with numbers
def cr_matrix(size):
    matrix = []
    for a in range(size):
        row = []
        for b in range(size):
            row.append(a + b)
        matrix.append(row)
    return matrix

# a) Matrix multiplication is the topic of this subsection as it's requested in a)
def mult_matr(A, B):
    n = len(A)
    # The idea of this part is that there an empty space where the result gets stored. 
    result = [[0 for _ in range(n)] for _ in range(n)]
    
    # I made an abc triple nested loop for the multiplication. I know that the complexity is quite high and the speed of it isn't the best but it wasn't really the task to make it a high performance code, therefore I decided to go the easy and kind of simple way.
    for a in range(n):
        for b in range(n):
            for c in range(n):
                result[a][b] += A[a][c] * B[c][b]
    return result

# So here's the main function and thus also time testing part where I decided to go in steps of 200 because the differences in time only get really high when it comes to high numbers and it's kind of unneccessary to test every single digit from 1 to 1000 because there is no practical difference between and 4*4 and a 5*5 matrix.
def main():
    max_size = 1000  # The max size of the matrix is 1000 because it's n up to 1000.
    step = 200  # As I've already mentioned, the selected step size is to to the practical differences and the reason why I'm writing this is because extensive writing is required...
    
    for size in range(step, max_size + 1, step):
        print(f"\nMultiplying two {size} x {size} matrices...")
        
        # Both matrices are created
        A = cr_matrix(size)
        B = cr_matrix(size)
        
        # It starts the timer from b) 
        start_time = time.time()
        result = mult_matr(A, B)
        end_time = time.time()
        
        print(f"Time taken for this op: {end_time - start_time:.2f} seconds.") # That's just the feedback in the terminal so that the user can see it.
main()



# c) So my implementation of the standard matrix multiplication follows O(n^3) because it uses a three nested loop. It was not a surprise that it took rather long, but it was still longer than I expected. I've done something similar when I was younger and I seem to have recalled a different amount of time-.
# still c) (and a bit of d)) just explaining what it means... It basically means that the complexity of the algorithm takes a run time that's proportional to the cube of the number of elements being processed.
# also still d) The NumPy method is way faster for lare matrices. Its complexity is different.
